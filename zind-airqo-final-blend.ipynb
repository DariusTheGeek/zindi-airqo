{
 "cells": [
  {
   "cell_type": "code",
   "execution_count": 1,
   "metadata": {
    "collapsed": true
   },
   "outputs": [],
   "source": [
    "import numpy as np\n",
    "import pandas as pd"
   ]
  },
  {
   "cell_type": "code",
   "execution_count": 2,
   "metadata": {},
   "outputs": [
    {
     "name": "stdout",
     "output_type": "stream",
     "text": [
      "airqo-ugandan-air-quality-forecast-challenge #2 3 STRoNG !!!.zip\n",
      "cnn_preds.csv\n",
      "darius-model-1.ipynb\n",
      "darius-model-2.ipynb\n",
      "input\n",
      "model-3.ipynb\n",
      "model_12_blend.csv\n",
      "model_2.csv\n",
      "model_3.csv\n",
      "readme.txt\n",
      "zind-airqo-final-blend.ipynb\n",
      "zindi-airqo-cnn-quick.ipynb\n",
      "zindi_airqo_final_sub.csv\n"
     ]
    }
   ],
   "source": [
    "!ls"
   ]
  },
  {
   "cell_type": "code",
   "execution_count": 3,
   "metadata": {
    "_cell_guid": "79c7e3d0-c299-4dcb-8224-4455121ee9b0",
    "_uuid": "d629ff2d2480ee46fbb7e2d37f6b5fab8052498a",
    "collapsed": true
   },
   "outputs": [],
   "source": [
    "df = pd.read_csv('model_2.csv')[['ID']]\n",
    "df = pd.merge(df, pd.read_csv('model_12_blend.csv').rename({'target': 'A'}, axis=1), on = 'ID', how='left')\n",
    "df = pd.merge(df, pd.read_csv('model_2.csv').rename({'target': 'B'}, axis=1), on = 'ID', how='left')\n",
    "df = pd.merge(df, pd.read_csv('model_3.csv').rename({'target': 'C'}, axis=1), on = 'ID', how='left')\n",
    "df = pd.merge(df, pd.read_csv('cnn_preds.csv').rename({'target': 'D'}, axis=1), on = 'ID', how='left')"
   ]
  },
  {
   "cell_type": "code",
   "execution_count": 4,
   "metadata": {},
   "outputs": [
    {
     "data": {
      "text/html": [
       "<div>\n",
       "<style scoped>\n",
       "    .dataframe tbody tr th:only-of-type {\n",
       "        vertical-align: middle;\n",
       "    }\n",
       "\n",
       "    .dataframe tbody tr th {\n",
       "        vertical-align: top;\n",
       "    }\n",
       "\n",
       "    .dataframe thead th {\n",
       "        text-align: right;\n",
       "    }\n",
       "</style>\n",
       "<table border=\"1\" class=\"dataframe\">\n",
       "  <thead>\n",
       "    <tr style=\"text-align: right;\">\n",
       "      <th></th>\n",
       "      <th>A</th>\n",
       "      <th>B</th>\n",
       "      <th>C</th>\n",
       "      <th>D</th>\n",
       "    </tr>\n",
       "  </thead>\n",
       "  <tbody>\n",
       "    <tr>\n",
       "      <th>A</th>\n",
       "      <td>1.000000</td>\n",
       "      <td>0.972463</td>\n",
       "      <td>0.981905</td>\n",
       "      <td>0.937631</td>\n",
       "    </tr>\n",
       "    <tr>\n",
       "      <th>B</th>\n",
       "      <td>0.972463</td>\n",
       "      <td>1.000000</td>\n",
       "      <td>0.966836</td>\n",
       "      <td>0.932886</td>\n",
       "    </tr>\n",
       "    <tr>\n",
       "      <th>C</th>\n",
       "      <td>0.981905</td>\n",
       "      <td>0.966836</td>\n",
       "      <td>1.000000</td>\n",
       "      <td>0.941585</td>\n",
       "    </tr>\n",
       "    <tr>\n",
       "      <th>D</th>\n",
       "      <td>0.937631</td>\n",
       "      <td>0.932886</td>\n",
       "      <td>0.941585</td>\n",
       "      <td>1.000000</td>\n",
       "    </tr>\n",
       "  </tbody>\n",
       "</table>\n",
       "</div>"
      ],
      "text/plain": [
       "          A         B         C         D\n",
       "A  1.000000  0.972463  0.981905  0.937631\n",
       "B  0.972463  1.000000  0.966836  0.932886\n",
       "C  0.981905  0.966836  1.000000  0.941585\n",
       "D  0.937631  0.932886  0.941585  1.000000"
      ]
     },
     "execution_count": 4,
     "metadata": {},
     "output_type": "execute_result"
    }
   ],
   "source": [
    "df[['A', 'B', 'C', 'D']].corr()"
   ]
  },
  {
   "cell_type": "code",
   "execution_count": 5,
   "metadata": {},
   "outputs": [
    {
     "name": "stderr",
     "output_type": "stream",
     "text": [
      "C:\\Anaconda5\\lib\\site-packages\\ipykernel_launcher.py:2: SettingWithCopyWarning: \n",
      "A value is trying to be set on a copy of a slice from a DataFrame.\n",
      "Try using .loc[row_indexer,col_indexer] = value instead\n",
      "\n",
      "See the caveats in the documentation: http://pandas.pydata.org/pandas-docs/stable/indexing.html#indexing-view-versus-copy\n",
      "  \n"
     ]
    }
   ],
   "source": [
    "final_sub_df = df[['ID']]\n",
    "final_sub_df['target'] = ((df['A']*0.6 + df['B']*0.4)*0.35 + df['C']*0.65)*0.85 + df['D']*0.15\n",
    "final_sub_df.to_csv('zindi_airqo_final_sub.csv', index=False)"
   ]
  },
  {
   "cell_type": "code",
   "execution_count": 6,
   "metadata": {},
   "outputs": [
    {
     "name": "stderr",
     "output_type": "stream",
     "text": [
      "C:\\Anaconda5\\lib\\site-packages\\ipykernel_launcher.py:2: SettingWithCopyWarning: \n",
      "A value is trying to be set on a copy of a slice from a DataFrame.\n",
      "Try using .loc[row_indexer,col_indexer] = value instead\n",
      "\n",
      "See the caveats in the documentation: http://pandas.pydata.org/pandas-docs/stable/indexing.html#indexing-view-versus-copy\n",
      "  \n"
     ]
    }
   ],
   "source": [
    "final_sub_df = df[['ID']]\n",
    "final_sub_df['target'] = (df['A']*0.6 + df['B']*0.4)\n",
    "final_sub_df.to_csv('zindi_airqo_model_1_and_2_only.csv', index=False)"
   ]
  },
  {
   "cell_type": "code",
   "execution_count": null,
   "metadata": {
    "collapsed": true
   },
   "outputs": [],
   "source": []
  }
 ],
 "metadata": {
  "kernelspec": {
   "display_name": "Python 3",
   "language": "python",
   "name": "python3"
  },
  "language_info": {
   "codemirror_mode": {
    "name": "ipython",
    "version": 3
   },
   "file_extension": ".py",
   "mimetype": "text/x-python",
   "name": "python",
   "nbconvert_exporter": "python",
   "pygments_lexer": "ipython3",
   "version": "3.6.3"
  }
 },
 "nbformat": 4,
 "nbformat_minor": 4
}
